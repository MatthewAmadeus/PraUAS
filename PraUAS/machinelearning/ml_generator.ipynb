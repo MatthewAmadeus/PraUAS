{
 "cells": [
  {
   "cell_type": "code",
   "execution_count": 1,
   "metadata": {},
   "outputs": [],
   "source": [
    "import numpy as np\n",
    "import pandas as pd"
   ]
  },
  {
   "cell_type": "code",
   "execution_count": 2,
   "metadata": {},
   "outputs": [],
   "source": [
    "def generate_array(start, stop):\n",
    "    values = np.linspace(start, stop, 10)\n",
    "    variance = 0.1 * values\n",
    "    values += np.round(np.random.uniform(low=-variance, high=variance, size=10),3)\n",
    "    return values"
   ]
  },
  {
   "cell_type": "code",
   "execution_count": 3,
   "metadata": {},
   "outputs": [],
   "source": [
    "array = [[0,14,100,10000000,400,2000,0,100],[0,10,0,100,0,1000,0,100],[0,10,0,50,0,100,0,100]]\n",
    "heading = [['sensor111', 'sensor112', 'sensor113', 'actuator11'], \n",
    "           ['sensor121', 'sensor122', 'sensor123', 'actuator12'],\n",
    "           ['sensor131', 'sensor132', 'sensor133', 'actuator13']]\n",
    "csv_file = ['1subsistem1.csv', '1subsistem2.csv', '1subsistem3.csv']\n",
    "for i in range (3):\n",
    "    x = array[i]\n",
    "    data = pd.DataFrame({\n",
    "        heading[i][0]: generate_array(x[0],x[1]),\n",
    "        heading[i][1]: generate_array(x[2],x[3]),\n",
    "        heading[i][2]: generate_array(x[4],x[5]),\n",
    "        heading[i][3]: generate_array(x[6],x[7])\n",
    "        })\n",
    "    data.to_csv(csv_file[i], index=False)\n"
   ]
  },
  {
   "cell_type": "code",
   "execution_count": 4,
   "metadata": {},
   "outputs": [],
   "source": [
    "array = [[0,14,100,10000000,400,2000,0,100],[0,10,0,100,0,1000,0,100],[0,10,0,50,0,100,0,100]]\n",
    "heading = [['sensor211', 'sensor212', 'sensor213', 'actuator21'], \n",
    "           ['sensor221', 'sensor222', 'sensor223', 'actuator22'],\n",
    "           ['sensor231', 'sensor232', 'sensor233', 'actuator23']]\n",
    "csv_file = ['2subsistem1.csv', '2subsistem2.csv', '2subsistem3.csv']\n",
    "for i in range (3):\n",
    "    x = array[i]\n",
    "    data = pd.DataFrame({\n",
    "        heading[i][0]: generate_array(x[0],x[1]),\n",
    "        heading[i][1]: generate_array(x[2],x[3]),\n",
    "        heading[i][2]: generate_array(x[4],x[5]),\n",
    "        heading[i][3]: generate_array(x[6],x[7])\n",
    "        })\n",
    "    data.to_csv(csv_file[i], index=False)\n"
   ]
  },
  {
   "cell_type": "code",
   "execution_count": 5,
   "metadata": {},
   "outputs": [],
   "source": [
    "array = [[0,100,0,15,0,75,0,100],[40,90,15,60,0,30,0,1000],[0,1000,350,5000,1,60,0,200]]\n",
    "heading = [['sensor311', 'sensor312', 'sensor313', 'actuator31'], \n",
    "           ['sensor321', 'sensor322', 'sensor323', 'actuator32'],\n",
    "           ['sensor331', 'sensor332', 'sensor333', 'actuator33']]\n",
    "csv_file = ['3subsistem1.csv', '3subsistem2.csv', '3subsistem3.csv']\n",
    "for i in range (3):\n",
    "    x = array[i]\n",
    "    data = pd.DataFrame({\n",
    "        heading[i][0]: generate_array(x[0],x[1]),\n",
    "        heading[i][1]: generate_array(x[2],x[3]),\n",
    "        heading[i][2]: generate_array(x[4],x[5]),\n",
    "        heading[i][3]: generate_array(x[6],x[7])\n",
    "        })\n",
    "    data.to_csv(csv_file[i], index=False)"
   ]
  },
  {
   "cell_type": "code",
   "execution_count": 6,
   "metadata": {},
   "outputs": [],
   "source": [
    "array = [[0,100,0,100,0,100,0,100],[0,100,0,1000,0,100,0,100],[0,100,0,1000,0,200,0,100]]\n",
    "heading = [['actuator11', 'actuator21', 'actuator13', 'actuator1'], \n",
    "           ['actuator21', 'actuator22', 'actuator23', 'actuator2'],\n",
    "           ['actuator31', 'actuator32', 'actuator33', 'actuator3']]\n",
    "csv_file = ['actuator1.csv', 'actuator2.csv', 'actuator3.csv']\n",
    "for i in range (3):\n",
    "    x = array[i]\n",
    "    data = pd.DataFrame({\n",
    "        heading[i][0]: generate_array(x[0],x[1]),\n",
    "        heading[i][1]: generate_array(x[2],x[3]),\n",
    "        heading[i][2]: generate_array(x[4],x[5]),\n",
    "        heading[i][3]: generate_array(x[6],x[7])\n",
    "        })\n",
    "    data.to_csv(csv_file[i], index=False)"
   ]
  },
  {
   "cell_type": "code",
   "execution_count": 7,
   "metadata": {},
   "outputs": [],
   "source": [
    "array = [[0,100,0,100,0,100,0,100]]\n",
    "heading = [['actuator1', 'actuator2', 'actuator3', 'performance']]\n",
    "csv_file = ['performance.csv']\n",
    "for i in range (1):\n",
    "    x = array[i]\n",
    "    data = pd.DataFrame({\n",
    "        heading[i][0]: generate_array(x[0],x[1]),\n",
    "        heading[i][1]: generate_array(x[2],x[3]),\n",
    "        heading[i][2]: generate_array(x[4],x[5]),\n",
    "        heading[i][3]: generate_array(x[6],x[7])\n",
    "        })\n",
    "    data.to_csv(csv_file[i], index=False)"
   ]
  }
 ],
 "metadata": {
  "kernelspec": {
   "display_name": "Python 3",
   "language": "python",
   "name": "python3"
  },
  "language_info": {
   "codemirror_mode": {
    "name": "ipython",
    "version": 3
   },
   "file_extension": ".py",
   "mimetype": "text/x-python",
   "name": "python",
   "nbconvert_exporter": "python",
   "pygments_lexer": "ipython3",
   "version": "3.10.11"
  },
  "orig_nbformat": 4
 },
 "nbformat": 4,
 "nbformat_minor": 2
}
